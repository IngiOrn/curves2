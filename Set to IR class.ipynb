{
 "cells": [
  {
   "cell_type": "code",
   "execution_count": null,
   "metadata": {
    "collapsed": true
   },
   "outputs": [],
   "source": [
    "import numpy as np\n",
    "import pandas as pd\n",
    "import datetime as dt"
   ]
  },
  {
   "cell_type": "code",
   "execution_count": 12,
   "metadata": {
    "collapsed": false
   },
   "outputs": [],
   "source": [
    "from abc import ABCMeta, abstractmethod\n",
    "class Instrument(object):\n",
    "    __metaclass__ = ABCMeta\n",
    "    \n",
    "    def __init__(self, maturity, rate):\n",
    "        self.maturity = maturity\n",
    "        self.rate = rate\n",
    "        self.name = None\n",
    "    \n",
    "    def timeofpayments(self):\n",
    "        pass\n",
    "    \n",
    "    def coupons(self):\n",
    "        pass"
   ]
  },
  {
   "cell_type": "code",
   "execution_count": 96,
   "metadata": {
    "collapsed": false
   },
   "outputs": [],
   "source": [
    "class LIBOR(Instrument):\n",
    "    def __init__(self,maturity,rate):\n",
    "        self.name = \"LIBOR\"\n",
    "        self.maturity = maturity\n",
    "        self.rate = rate\n",
    "        self.payments = {}\n",
    "        self.price = 1\n",
    "        \n",
    "    def print_maturity(self):\n",
    "        print(self.maturity)\n",
    "    \n",
    "    def get_payment_days(self):\n",
    "        return [self.maturity]\n",
    "    \n",
    "    def setup_payments(self,spotday):\n",
    "        self.payments[self.maturity] = 1 +delta(spotday,self.maturity)*self.rate\n",
    "        \n",
    "        \n",
    "        \n",
    "        \n",
    "class FRA(Instrument):\n",
    "    def __init__(self,maturity,rate):\n",
    "        self.name = \"LIBOR\"\n",
    "        self.maturity = maturity\n",
    "        self.rate = rate\n",
    "        self.payment_days = [maturity]\n",
    "        self.payments = {}\n",
    "        self.price = 0\n",
    "        \n",
    "        \n",
    "    def print_maturity(self):\n",
    "        print(self.maturity)\n",
    "    \n",
    "    def set_payment_days(self,payment_days):\n",
    "        self.payment_days = payment_days +self.payment_days\n",
    "        \n",
    "    def get_payment_days(self):\n",
    "        return self.payment_days\n",
    "    \n",
    "    def setup_payments(self,spotday):\n",
    "        self.payments[self.payment_days[-1]] = 1 +delta(self.payment_days[-2],self.payment_days[-1])*self.rate\n",
    "        self.payments[self.payment_days[-2]] = -1\n",
    "        \n",
    "class SWAP(Instrument):\n",
    "    def __init__(self,maturity,rate):\n",
    "        self.name = \"LIBOR\"\n",
    "        self.maturity = maturity\n",
    "        self.rate = rate\n",
    "        self.payment_days = [maturity]\n",
    "        self.payments = {}\n",
    "        self.price = 1\n",
    "        \n",
    "        \n",
    "    def print_maturity(self):\n",
    "        print(self.maturity)\n",
    "    \n",
    "    def set_payment_days(self,payment_days):\n",
    "        self.payment_days = payment_days + self.payment_days\n",
    "        \n",
    "    def get_payment_days(self):\n",
    "        return self.payment_days \n",
    "    \n",
    "    def setup_payments(self,spotday):\n",
    "        temp = [spotday] + self.get_payment_days()\n",
    "        for i in range(1,len(temp)):\n",
    "            self.payments[temp[i]] = delta(temp[i-1],temp[i])*self.rate\n",
    "        \n",
    "        self.payments[temp[-1]] += 1"
   ]
  },
  {
   "cell_type": "code",
   "execution_count": 97,
   "metadata": {
    "collapsed": true
   },
   "outputs": [],
   "source": [
    "l = LIBOR(dt.date(2015,5,6),0.01)"
   ]
  },
  {
   "cell_type": "code",
   "execution_count": 98,
   "metadata": {
    "collapsed": false
   },
   "outputs": [],
   "source": [
    "l.setup_payments(dt.date(2015,1,1))"
   ]
  },
  {
   "cell_type": "code",
   "execution_count": 99,
   "metadata": {
    "collapsed": false
   },
   "outputs": [
    {
     "data": {
      "text/plain": [
       "1.0034722222222223"
      ]
     },
     "execution_count": 99,
     "metadata": {},
     "output_type": "execute_result"
    }
   ],
   "source": [
    "l.payments[dt.date(2015,5,6)]"
   ]
  },
  {
   "cell_type": "code",
   "execution_count": 100,
   "metadata": {
    "collapsed": false
   },
   "outputs": [],
   "source": [
    "f = FRA(dt.date(2015,5,6),0.01)"
   ]
  },
  {
   "cell_type": "code",
   "execution_count": 101,
   "metadata": {
    "collapsed": false
   },
   "outputs": [],
   "source": [
    "f.set_payment_days([dt.date(2015,3,3)])"
   ]
  },
  {
   "cell_type": "code",
   "execution_count": 102,
   "metadata": {
    "collapsed": false
   },
   "outputs": [
    {
     "data": {
      "text/plain": [
       "[datetime.date(2015, 3, 3), datetime.date(2015, 5, 6)]"
      ]
     },
     "execution_count": 102,
     "metadata": {},
     "output_type": "execute_result"
    }
   ],
   "source": [
    "f.get_payment_days()"
   ]
  },
  {
   "cell_type": "code",
   "execution_count": 103,
   "metadata": {
    "collapsed": false
   },
   "outputs": [],
   "source": [
    "f.setup_payments(dt.date(2015,1,1))"
   ]
  },
  {
   "cell_type": "code",
   "execution_count": 104,
   "metadata": {
    "collapsed": false
   },
   "outputs": [
    {
     "data": {
      "text/plain": [
       "0"
      ]
     },
     "execution_count": 104,
     "metadata": {},
     "output_type": "execute_result"
    }
   ],
   "source": [
    "f.price"
   ]
  },
  {
   "cell_type": "code",
   "execution_count": 105,
   "metadata": {
    "collapsed": true
   },
   "outputs": [],
   "source": [
    "s = SWAP(dt.date(2017,1,1), 0.04)"
   ]
  },
  {
   "cell_type": "code",
   "execution_count": 106,
   "metadata": {
    "collapsed": true
   },
   "outputs": [],
   "source": [
    "s.set_payment_days([dt.date(2016,1,1)])"
   ]
  },
  {
   "cell_type": "code",
   "execution_count": 107,
   "metadata": {
    "collapsed": false
   },
   "outputs": [
    {
     "data": {
      "text/plain": [
       "[datetime.date(2016, 1, 1), datetime.date(2017, 1, 1)]"
      ]
     },
     "execution_count": 107,
     "metadata": {},
     "output_type": "execute_result"
    }
   ],
   "source": [
    "s.get_payment_days()"
   ]
  },
  {
   "cell_type": "code",
   "execution_count": 108,
   "metadata": {
    "collapsed": false
   },
   "outputs": [],
   "source": [
    "s.setup_payments(dt.date(2015,1,1))"
   ]
  },
  {
   "cell_type": "code",
   "execution_count": 109,
   "metadata": {
    "collapsed": false
   },
   "outputs": [
    {
     "data": {
      "text/plain": [
       "{datetime.date(2016, 1, 1): 0.04055555555555555,\n",
       " datetime.date(2017, 1, 1): 1.0406666666666666}"
      ]
     },
     "execution_count": 109,
     "metadata": {},
     "output_type": "execute_result"
    }
   ],
   "source": [
    "s.payments"
   ]
  },
  {
   "cell_type": "code",
   "execution_count": 110,
   "metadata": {
    "collapsed": false
   },
   "outputs": [
    {
     "data": {
      "text/plain": [
       "datetime.timedelta(30)"
      ]
     },
     "execution_count": 110,
     "metadata": {},
     "output_type": "execute_result"
    }
   ],
   "source": [
    "dt.timedelta(30)"
   ]
  },
  {
   "cell_type": "code",
   "execution_count": 111,
   "metadata": {
    "collapsed": true
   },
   "outputs": [],
   "source": [
    "def delta(t1,t2):\n",
    "    return (t2 -t1)/dt.timedelta(360)"
   ]
  },
  {
   "cell_type": "code",
   "execution_count": 112,
   "metadata": {
    "collapsed": false
   },
   "outputs": [
    {
     "data": {
      "text/plain": [
       "0.4305555555555556"
      ]
     },
     "execution_count": 112,
     "metadata": {},
     "output_type": "execute_result"
    }
   ],
   "source": [
    "delta(dt.date(2015,1,2), dt.date(2015,6,6))"
   ]
  },
  {
   "cell_type": "code",
   "execution_count": 113,
   "metadata": {
    "collapsed": false
   },
   "outputs": [],
   "source": [
    "R = {dt.date(2015,1,2):3}"
   ]
  },
  {
   "cell_type": "code",
   "execution_count": 114,
   "metadata": {
    "collapsed": false
   },
   "outputs": [
    {
     "data": {
      "text/plain": [
       "3"
      ]
     },
     "execution_count": 114,
     "metadata": {},
     "output_type": "execute_result"
    }
   ],
   "source": [
    "R[dt.date(2015,1,2)]"
   ]
  },
  {
   "cell_type": "code",
   "execution_count": 115,
   "metadata": {
    "collapsed": false
   },
   "outputs": [],
   "source": [
    "M =[l,f,s]"
   ]
  },
  {
   "cell_type": "code",
   "execution_count": 126,
   "metadata": {
    "collapsed": false
   },
   "outputs": [],
   "source": [
    "dates = set()\n",
    "for istru in M:\n",
    "    dates.update(istru.get_payment_days())"
   ]
  },
  {
   "cell_type": "code",
   "execution_count": 130,
   "metadata": {
    "collapsed": false
   },
   "outputs": [],
   "source": [
    "total = sorted(list(dates))"
   ]
  },
  {
   "cell_type": "code",
   "execution_count": 124,
   "metadata": {
    "collapsed": false
   },
   "outputs": [],
   "source": [
    "dates.update([1,3,4,5])"
   ]
  },
  {
   "cell_type": "code",
   "execution_count": 125,
   "metadata": {
    "collapsed": false
   },
   "outputs": [
    {
     "data": {
      "text/plain": [
       "{1, 3, 4, 5}"
      ]
     },
     "execution_count": 125,
     "metadata": {},
     "output_type": "execute_result"
    }
   ],
   "source": [
    "dates"
   ]
  },
  {
   "cell_type": "code",
   "execution_count": 132,
   "metadata": {
    "collapsed": false
   },
   "outputs": [
    {
     "data": {
      "text/plain": [
       "2"
      ]
     },
     "execution_count": 132,
     "metadata": {},
     "output_type": "execute_result"
    }
   ],
   "source": [
    "total.index(total[2])"
   ]
  },
  {
   "cell_type": "code",
   "execution_count": null,
   "metadata": {
    "collapsed": true
   },
   "outputs": [],
   "source": [
    ""
   ]
  },
  {
   "cell_type": "code",
   "execution_count": null,
   "metadata": {
    "collapsed": true
   },
   "outputs": [],
   "source": [
    ""
   ]
  }
 ],
 "metadata": {
  "anaconda-cloud": {},
  "kernelspec": {
   "display_name": "Python [default]",
   "language": "python",
   "name": "python3"
  },
  "language_info": {
   "codemirror_mode": {
    "name": "ipython",
    "version": 3.0
   },
   "file_extension": ".py",
   "mimetype": "text/x-python",
   "name": "python",
   "nbconvert_exporter": "python",
   "pygments_lexer": "ipython3",
   "version": "3.5.2"
  }
 },
 "nbformat": 4,
 "nbformat_minor": 0
}