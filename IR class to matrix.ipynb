{
 "cells": [
  {
   "cell_type": "code",
   "execution_count": 1,
   "metadata": {
    "collapsed": true
   },
   "outputs": [],
   "source": [
    "import numpy as np\n",
    "import pandas as pd\n",
    "import datetime as dt\n",
    "import pickle"
   ]
  },
  {
   "cell_type": "code",
   "execution_count": 31,
   "metadata": {
    "collapsed": true
   },
   "outputs": [],
   "source": [
    "market = pd.read_pickle('market.p')\n",
    "P = pickle.load( open( \"P.p\", \"rb\" ) )"
   ]
  },
  {
   "cell_type": "code",
   "execution_count": 20,
   "metadata": {
    "collapsed": true
   },
   "outputs": [],
   "source": [
    "def delta(t1,t2):\n",
    "    return (t2 -t1)/dt.timedelta(360)\n"
   ]
  },
  {
   "cell_type": "code",
   "execution_count": 23,
   "metadata": {
    "collapsed": true
   },
   "outputs": [],
   "source": [
    "spotday = dt.date(2012,10,3)"
   ]
  },
  {
   "cell_type": "code",
   "execution_count": 4,
   "metadata": {
    "collapsed": false
   },
   "outputs": [],
   "source": [
    "from abc import ABCMeta, abstractmethod\n",
    "class Instrument(object):\n",
    "    __metaclass__ = ABCMeta\n",
    "    \n",
    "    def __init__(self, maturity, rate):\n",
    "        self.maturity = maturity\n",
    "        self.rate = rate\n",
    "        self.name = None\n",
    "    \n",
    "    def timeofpayments(self):\n",
    "        pass\n",
    "    \n",
    "    def coupons(self):\n",
    "        pass\n",
    "    "
   ]
  },
  {
   "cell_type": "code",
   "execution_count": 60,
   "metadata": {
    "collapsed": false
   },
   "outputs": [],
   "source": [
    "class LIBOR(Instrument):\n",
    "    def __init__(self,maturity,rate):\n",
    "        self.name = \"LIBOR\"\n",
    "        self.maturity = maturity\n",
    "        self.rate = rate\n",
    "        self.payments = {}\n",
    "        self.price = 1\n",
    "        self.payment_days = [maturity]\n",
    "        \n",
    "    def print_maturity(self):\n",
    "        print(self.maturity)\n",
    "    \n",
    "    def get_payment_days(self):\n",
    "        return [self.maturity]\n",
    "    \n",
    "    def setup_payments(self,spotday):\n",
    "        self.payments[self.maturity] = 1 +delta(spotday,self.maturity)*self.rate\n",
    "        \n",
    "        \n",
    "        \n",
    "        \n",
    "class FRA(Instrument):\n",
    "    def __init__(self,maturity,rate):\n",
    "        self.name = \"LIBOR\"\n",
    "        self.maturity = maturity\n",
    "        self.rate = rate\n",
    "        self.payment_days = [maturity]\n",
    "        self.payments = {}\n",
    "        self.price = 0\n",
    "        \n",
    "        \n",
    "    def print_maturity(self):\n",
    "        print(self.maturity)\n",
    "    \n",
    "    def set_payment_days(self,payment_days):\n",
    "        self.payment_days = payment_days + self.payment_days\n",
    "        \n",
    "    def get_payment_days(self):\n",
    "        return self.payment_days\n",
    "    \n",
    "    def setup_payments(self,spotday):\n",
    "        self.payments[self.payment_days[-1]] = 1 +delta(self.payment_days[-2],self.payment_days[-1])*self.rate\n",
    "        self.payments[self.payment_days[-2]] = -1\n",
    "        \n",
    "class SWAP(Instrument):\n",
    "    def __init__(self,maturity,rate):\n",
    "        self.name = \"LIBOR\"\n",
    "        self.maturity = maturity\n",
    "        self.rate = rate\n",
    "        self.payment_days = [maturity]\n",
    "        self.payments = {}\n",
    "        self.price = 1\n",
    "        \n",
    "        \n",
    "    def print_maturity(self):\n",
    "        print(self.maturity)\n",
    "    \n",
    "    def set_payment_days(self,payment_days):\n",
    "        self.payment_days = payment_days + self.payment_days\n",
    "        \n",
    "    def get_payment_days(self):\n",
    "        return self.payment_days \n",
    "    \n",
    "    def setup_payments(self,spotday):\n",
    "        temp = [spotday] + self.get_payment_days()\n",
    "        for i in range(1,len(temp)):\n",
    "            self.payments[temp[i]] = delta(temp[i-1],temp[i])*self.rate\n",
    "        \n",
    "        self.payments[temp[-1]] += 1\n",
    "        "
   ]
  },
  {
   "cell_type": "code",
   "execution_count": 61,
   "metadata": {
    "collapsed": false
   },
   "outputs": [],
   "source": [
    "list_of_instruments = []\n",
    "for index, row in market.iterrows():\n",
    "    if row['Source'] == 'LIBOR':\n",
    "        instument = LIBOR(row['Maturity'].to_pydatetime().date(),row['Market Quotes']/100)\n",
    "        list_of_instruments.append(instument)\n",
    "    if row['Source'] == 'Futures':\n",
    "        instument = FRA(row['Maturity'].to_pydatetime().date(),(100-row['Market Quotes'])/100)\n",
    "        instument.set_payment_days(P[index])\n",
    "        list_of_instruments.append(instument)\n",
    "    if row['Source'] == 'Swap':\n",
    "        instument = SWAP(row['Maturity'].to_pydatetime().date(),row['Market Quotes']/100)\n",
    "        instument.set_payment_days(P[index])\n",
    "        list_of_instruments.append(instument)\n",
    "\n"
   ]
  },
  {
   "cell_type": "code",
   "execution_count": 62,
   "metadata": {
    "collapsed": true
   },
   "outputs": [],
   "source": [
    "for inst in list_of_instruments:\n",
    "    inst.setup_payments(spotday)\n"
   ]
  },
  {
   "cell_type": "code",
   "execution_count": 63,
   "metadata": {
    "collapsed": false
   },
   "outputs": [
    {
     "data": {
      "text/plain": [
       "{datetime.date(2013, 6, 19): -1, datetime.date(2013, 9, 18): 1.000626888888889}"
      ]
     },
     "execution_count": 63,
     "metadata": {},
     "output_type": "execute_result"
    }
   ],
   "source": [
    "list_of_instruments[5].payments"
   ]
  },
  {
   "cell_type": "code",
   "execution_count": 64,
   "metadata": {
    "collapsed": false
   },
   "outputs": [
    {
     "data": {
      "text/plain": [
       "<enumerate at 0x10b3d8900>"
      ]
     },
     "execution_count": 64,
     "metadata": {},
     "output_type": "execute_result"
    }
   ],
   "source": [
    "enumerate(list_of_instruments)"
   ]
  },
  {
   "cell_type": "code",
   "execution_count": 82,
   "metadata": {
    "collapsed": false
   },
   "outputs": [],
   "source": [
    "for (i,inst) in enumerate(list_of_instruments):\n",
    "    p[i] = inst.price\n",
    "    for j in range(len(total)):\n",
    "        if total[j] in inst.payment_days:\n",
    "            C[i,j] = inst.payments[total[j]]\n"
   ]
  },
  {
   "cell_type": "code",
   "execution_count": 78,
   "metadata": {
    "collapsed": false
   },
   "outputs": [
    {
     "data": {
      "text/plain": [
       "array([ 0.        ,  0.        ,  0.        ,  0.        ,  0.        ,\n",
       "        0.        ,  0.        ,  0.00594139,  0.        ,  0.        ,\n",
       "        0.00594139,  1.00597394,  0.        ,  0.        ,  0.        ,\n",
       "        0.        ,  0.        ,  0.        ,  0.        ,  0.        ,\n",
       "        0.        ,  0.        ,  0.        ,  0.        ,  0.        ,\n",
       "        0.        ,  0.        ,  0.        ,  0.        ,  0.        ,\n",
       "        0.        ,  0.        ,  0.        ,  0.        ,  0.        ,\n",
       "        0.        ,  0.        ,  0.        ,  0.        ])"
      ]
     },
     "execution_count": 78,
     "metadata": {},
     "output_type": "execute_result"
    }
   ],
   "source": [
    "C[9]"
   ]
  },
  {
   "cell_type": "code",
   "execution_count": 83,
   "metadata": {
    "collapsed": false
   },
   "outputs": [
    {
     "data": {
      "text/plain": [
       "array([ 1.,  1.,  1.,  1.,  0.,  0.,  0.,  0.,  1.,  1.,  1.,  1.,  1.,\n",
       "        1.,  1.,  1.,  1.])"
      ]
     },
     "execution_count": 83,
     "metadata": {},
     "output_type": "execute_result"
    }
   ],
   "source": [
    "p"
   ]
  },
  {
   "cell_type": "code",
   "execution_count": 47,
   "metadata": {
    "collapsed": false
   },
   "outputs": [],
   "source": [
    "dates = set()\n",
    "for istru in list_of_instruments:\n",
    "    dates.update(istru.get_payment_days())\n",
    "total = sorted(list(dates))   "
   ]
  },
  {
   "cell_type": "code",
   "execution_count": 79,
   "metadata": {
    "collapsed": true
   },
   "outputs": [],
   "source": [
    "C = np.zeros((len(list_of_instruments),len(total)+1))\n",
    "p = np.zeros(len(list_of_instruments))"
   ]
  },
  {
   "cell_type": "code",
   "execution_count": 95,
   "metadata": {
    "collapsed": false
   },
   "outputs": [],
   "source": [
    "W_diag = [1/np.sqrt(delta(T[i-1],T[i])) for i in range(1,len(T))]"
   ]
  },
  {
   "cell_type": "code",
   "execution_count": 103,
   "metadata": {
    "collapsed": false
   },
   "outputs": [],
   "source": [
    "#W = np.zeros((len(T),len(T)))"
   ]
  },
  {
   "cell_type": "code",
   "execution_count": 102,
   "metadata": {
    "collapsed": false
   },
   "outputs": [],
   "source": [
    "W = np.diag(W_diag)"
   ]
  },
  {
   "cell_type": "code",
   "execution_count": 106,
   "metadata": {
    "collapsed": false
   },
   "outputs": [],
   "source": [
    "from scipy.sparse import spdiags\n",
    "#M = np.zeros((len(total), len(total)))"
   ]
  },
  {
   "cell_type": "code",
   "execution_count": 114,
   "metadata": {
    "collapsed": false
   },
   "outputs": [],
   "source": [
    "diags = np.array([0, -1])\n",
    "data = np.array([[1]*len(total),[-1]*len(total)])\n",
    "M_minus =spdiags(data, diags, len(total), len(total)).toarray()"
   ]
  },
  {
   "cell_type": "code",
   "execution_count": 115,
   "metadata": {
    "collapsed": false
   },
   "outputs": [
    {
     "data": {
      "text/plain": [
       "array([[ 1,  0,  0, ...,  0,  0,  0],\n",
       "       [-1,  1,  0, ...,  0,  0,  0],\n",
       "       [ 0, -1,  1, ...,  0,  0,  0],\n",
       "       ..., \n",
       "       [ 0,  0,  0, ...,  1,  0,  0],\n",
       "       [ 0,  0,  0, ..., -1,  1,  0],\n",
       "       [ 0,  0,  0, ...,  0, -1,  1]])"
      ]
     },
     "execution_count": 115,
     "metadata": {},
     "output_type": "execute_result"
    }
   ],
   "source": [
    "M_minus"
   ]
  },
  {
   "cell_type": "code",
   "execution_count": 118,
   "metadata": {
    "collapsed": false
   },
   "outputs": [],
   "source": [
    "W_minus =np.linalg.inv(W)"
   ]
  },
  {
   "cell_type": "code",
   "execution_count": 126,
   "metadata": {
    "collapsed": false
   },
   "outputs": [],
   "source": [
    "one = np.zeros(len(total))\n",
    "one[0] = 1\n",
    "one = np.atleast_2d(one).T"
   ]
  },
  {
   "cell_type": "code",
   "execution_count": 131,
   "metadata": {
    "collapsed": false
   },
   "outputs": [
    {
     "data": {
      "text/plain": [
       "(17, 39)"
      ]
     },
     "execution_count": 131,
     "metadata": {},
     "output_type": "execute_result"
    }
   ],
   "source": [
    "C.shape"
   ]
  },
  {
   "cell_type": "code",
   "execution_count": 132,
   "metadata": {
    "collapsed": false
   },
   "outputs": [
    {
     "data": {
      "text/plain": [
       "(39, 39)"
      ]
     },
     "execution_count": 132,
     "metadata": {},
     "output_type": "execute_result"
    }
   ],
   "source": [
    "M_minus.shape"
   ]
  },
  {
   "cell_type": "code",
   "execution_count": 133,
   "metadata": {
    "collapsed": false
   },
   "outputs": [
    {
     "data": {
      "text/plain": [
       "(39, 39)"
      ]
     },
     "execution_count": 133,
     "metadata": {},
     "output_type": "execute_result"
    }
   ],
   "source": [
    "W_minus.shape"
   ]
  },
  {
   "cell_type": "code",
   "execution_count": 137,
   "metadata": {
    "collapsed": false
   },
   "outputs": [],
   "source": [
    "A = np.dot(np.dot(C,M_minus),W_minus)"
   ]
  },
  {
   "cell_type": "code",
   "execution_count": null,
   "metadata": {
    "collapsed": false
   },
   "outputs": [],
   "source": []
  },
  {
   "cell_type": "code",
   "execution_count": 148,
   "metadata": {
    "collapsed": false
   },
   "outputs": [],
   "source": [
    "A_pseudo = np.dot(A.T, np.linalg.inv(np.dot(A,A.T)))"
   ]
  },
  {
   "cell_type": "code",
   "execution_count": 141,
   "metadata": {
    "collapsed": false
   },
   "outputs": [],
   "source": [
    "price = np.atleast_2d(p).T"
   ]
  },
  {
   "cell_type": "code",
   "execution_count": 150,
   "metadata": {
    "collapsed": false
   },
   "outputs": [],
   "source": [
    "Delta = np.dot(A_pseudo,price - np.dot(np.dot(C, M_minus),one))"
   ]
  },
  {
   "cell_type": "code",
   "execution_count": 152,
   "metadata": {
    "collapsed": false
   },
   "outputs": [],
   "source": [
    "discount_curve = np.dot(M_minus, np.dot(W_minus,Delta) + one)"
   ]
  },
  {
   "cell_type": "code",
   "execution_count": null,
   "metadata": {
    "collapsed": true
   },
   "outputs": [],
   "source": []
  },
  {
   "cell_type": "code",
   "execution_count": null,
   "metadata": {
    "collapsed": true
   },
   "outputs": [],
   "source": []
  },
  {
   "cell_type": "code",
   "execution_count": null,
   "metadata": {
    "collapsed": true
   },
   "outputs": [],
   "source": []
  },
  {
   "cell_type": "code",
   "execution_count": null,
   "metadata": {
    "collapsed": true
   },
   "outputs": [],
   "source": []
  },
  {
   "cell_type": "code",
   "execution_count": null,
   "metadata": {
    "collapsed": true
   },
   "outputs": [],
   "source": []
  },
  {
   "cell_type": "code",
   "execution_count": null,
   "metadata": {
    "collapsed": true
   },
   "outputs": [],
   "source": []
  },
  {
   "cell_type": "code",
   "execution_count": null,
   "metadata": {
    "collapsed": true
   },
   "outputs": [],
   "source": []
  },
  {
   "cell_type": "code",
   "execution_count": 134,
   "metadata": {
    "collapsed": false
   },
   "outputs": [
    {
     "data": {
      "text/plain": [
       "array([[ 0.05270463,  0.        ,  0.        , ...,  0.        ,\n",
       "         0.        ,  0.        ],\n",
       "       [-0.05270463,  0.2981424 ,  0.        , ...,  0.        ,\n",
       "         0.        ,  0.        ],\n",
       "       [ 0.        , -0.2981424 ,  0.40483193, ...,  0.        ,\n",
       "         0.        ,  0.        ],\n",
       "       ..., \n",
       "       [ 0.        ,  0.        ,  0.        , ...,  1.0082989 ,\n",
       "         0.        ,  0.        ],\n",
       "       [ 0.        ,  0.        ,  0.        , ..., -1.0082989 ,\n",
       "         1.0069205 ,  0.        ],\n",
       "       [ 0.        ,  0.        ,  0.        , ...,  0.        ,\n",
       "        -1.0069205 ,  1.00554021]])"
      ]
     },
     "execution_count": 134,
     "metadata": {},
     "output_type": "execute_result"
    }
   ],
   "source": [
    "np.dot(M_minus, W_minus)"
   ]
  },
  {
   "cell_type": "code",
   "execution_count": 81,
   "metadata": {
    "collapsed": false
   },
   "outputs": [
    {
     "data": {
      "text/plain": [
       "array([ 0.,  0.,  0.,  0.,  0.,  0.,  0.,  0.,  0.,  0.,  0.,  0.,  0.,\n",
       "        0.,  0.,  0.,  0.])"
      ]
     },
     "execution_count": 81,
     "metadata": {},
     "output_type": "execute_result"
    }
   ],
   "source": [
    "p"
   ]
  },
  {
   "cell_type": "code",
   "execution_count": 30,
   "metadata": {
    "collapsed": false
   },
   "outputs": [
    {
     "data": {
      "text/plain": [
       "[datetime.date(2013, 10, 3), datetime.date(2014, 10, 3)]"
      ]
     },
     "execution_count": 30,
     "metadata": {},
     "output_type": "execute_result"
    }
   ],
   "source": [
    "P[9]"
   ]
  },
  {
   "cell_type": "code",
   "execution_count": null,
   "metadata": {
    "collapsed": true
   },
   "outputs": [],
   "source": []
  },
  {
   "cell_type": "code",
   "execution_count": null,
   "metadata": {
    "collapsed": true
   },
   "outputs": [],
   "source": []
  },
  {
   "cell_type": "code",
   "execution_count": 98,
   "metadata": {
    "collapsed": false
   },
   "outputs": [],
   "source": [
    "l.setup_payments(dt.date(2015,1,1))"
   ]
  },
  {
   "cell_type": "code",
   "execution_count": 99,
   "metadata": {
    "collapsed": false
   },
   "outputs": [
    {
     "data": {
      "text/plain": [
       "1.0034722222222223"
      ]
     },
     "execution_count": 99,
     "metadata": {},
     "output_type": "execute_result"
    }
   ],
   "source": [
    "l.payments[dt.date(2015,5,6)]"
   ]
  },
  {
   "cell_type": "code",
   "execution_count": 100,
   "metadata": {
    "collapsed": false
   },
   "outputs": [],
   "source": [
    "f = FRA(dt.date(2015,5,6),0.01)"
   ]
  },
  {
   "cell_type": "code",
   "execution_count": 101,
   "metadata": {
    "collapsed": false
   },
   "outputs": [],
   "source": [
    "f.set_payment_days([dt.date(2015,3,3)])"
   ]
  },
  {
   "cell_type": "code",
   "execution_count": 102,
   "metadata": {
    "collapsed": false
   },
   "outputs": [
    {
     "data": {
      "text/plain": [
       "[datetime.date(2015, 3, 3), datetime.date(2015, 5, 6)]"
      ]
     },
     "execution_count": 102,
     "metadata": {},
     "output_type": "execute_result"
    }
   ],
   "source": [
    "f.get_payment_days()"
   ]
  },
  {
   "cell_type": "code",
   "execution_count": 103,
   "metadata": {
    "collapsed": false
   },
   "outputs": [],
   "source": [
    "f.setup_payments(dt.date(2015,1,1))"
   ]
  },
  {
   "cell_type": "code",
   "execution_count": 104,
   "metadata": {
    "collapsed": false
   },
   "outputs": [
    {
     "data": {
      "text/plain": [
       "0"
      ]
     },
     "execution_count": 104,
     "metadata": {},
     "output_type": "execute_result"
    }
   ],
   "source": [
    "f.price"
   ]
  },
  {
   "cell_type": "code",
   "execution_count": 105,
   "metadata": {
    "collapsed": true
   },
   "outputs": [],
   "source": [
    "s = SWAP(dt.date(2017,1,1), 0.04)"
   ]
  },
  {
   "cell_type": "code",
   "execution_count": 106,
   "metadata": {
    "collapsed": true
   },
   "outputs": [],
   "source": [
    "s.set_payment_days([dt.date(2016,1,1)])"
   ]
  },
  {
   "cell_type": "code",
   "execution_count": 107,
   "metadata": {
    "collapsed": false
   },
   "outputs": [
    {
     "data": {
      "text/plain": [
       "[datetime.date(2016, 1, 1), datetime.date(2017, 1, 1)]"
      ]
     },
     "execution_count": 107,
     "metadata": {},
     "output_type": "execute_result"
    }
   ],
   "source": [
    "s.get_payment_days()"
   ]
  },
  {
   "cell_type": "code",
   "execution_count": 108,
   "metadata": {
    "collapsed": false
   },
   "outputs": [],
   "source": [
    "s.setup_payments(dt.date(2015,1,1))"
   ]
  },
  {
   "cell_type": "code",
   "execution_count": 109,
   "metadata": {
    "collapsed": false
   },
   "outputs": [
    {
     "data": {
      "text/plain": [
       "{datetime.date(2016, 1, 1): 0.04055555555555555,\n",
       " datetime.date(2017, 1, 1): 1.0406666666666666}"
      ]
     },
     "execution_count": 109,
     "metadata": {},
     "output_type": "execute_result"
    }
   ],
   "source": [
    "s.payments"
   ]
  },
  {
   "cell_type": "code",
   "execution_count": 110,
   "metadata": {
    "collapsed": false
   },
   "outputs": [
    {
     "data": {
      "text/plain": [
       "datetime.timedelta(30)"
      ]
     },
     "execution_count": 110,
     "metadata": {},
     "output_type": "execute_result"
    }
   ],
   "source": [
    "dt.timedelta(30)"
   ]
  },
  {
   "cell_type": "code",
   "execution_count": 111,
   "metadata": {
    "collapsed": true
   },
   "outputs": [],
   "source": [
    "def delta(t1,t2):\n",
    "    return (t2 -t1)/dt.timedelta(360)"
   ]
  },
  {
   "cell_type": "code",
   "execution_count": 112,
   "metadata": {
    "collapsed": false
   },
   "outputs": [
    {
     "data": {
      "text/plain": [
       "0.4305555555555556"
      ]
     },
     "execution_count": 112,
     "metadata": {},
     "output_type": "execute_result"
    }
   ],
   "source": [
    "delta(dt.date(2015,1,2), dt.date(2015,6,6))"
   ]
  },
  {
   "cell_type": "code",
   "execution_count": 113,
   "metadata": {
    "collapsed": false
   },
   "outputs": [],
   "source": [
    "R = {dt.date(2015,1,2):3}"
   ]
  },
  {
   "cell_type": "code",
   "execution_count": 114,
   "metadata": {
    "collapsed": false
   },
   "outputs": [
    {
     "data": {
      "text/plain": [
       "3"
      ]
     },
     "execution_count": 114,
     "metadata": {},
     "output_type": "execute_result"
    }
   ],
   "source": [
    "R[dt.date(2015,1,2)]"
   ]
  },
  {
   "cell_type": "code",
   "execution_count": 115,
   "metadata": {
    "collapsed": false
   },
   "outputs": [],
   "source": [
    "M =[l,f,s]"
   ]
  },
  {
   "cell_type": "code",
   "execution_count": 126,
   "metadata": {
    "collapsed": false
   },
   "outputs": [],
   "source": [
    "dates = set()\n",
    "for istru in M:\n",
    "    dates.update(istru.get_payment_days())\n",
    "    "
   ]
  },
  {
   "cell_type": "code",
   "execution_count": 130,
   "metadata": {
    "collapsed": false
   },
   "outputs": [],
   "source": [
    "total = sorted(list(dates))"
   ]
  },
  {
   "cell_type": "code",
   "execution_count": 93,
   "metadata": {
    "collapsed": true
   },
   "outputs": [],
   "source": [
    "T = [spotday]+ total"
   ]
  },
  {
   "cell_type": "code",
   "execution_count": 94,
   "metadata": {
    "collapsed": false
   },
   "outputs": [
    {
     "data": {
      "text/plain": [
       "[datetime.date(2012, 10, 3),\n",
       " datetime.date(2012, 10, 4),\n",
       " datetime.date(2012, 11, 5),\n",
       " datetime.date(2013, 1, 3),\n",
       " datetime.date(2013, 3, 20),\n",
       " datetime.date(2013, 4, 3),\n",
       " datetime.date(2013, 6, 19),\n",
       " datetime.date(2013, 9, 18),\n",
       " datetime.date(2013, 10, 3),\n",
       " datetime.date(2013, 12, 18),\n",
       " datetime.date(2014, 3, 19),\n",
       " datetime.date(2014, 10, 3),\n",
       " datetime.date(2015, 10, 5),\n",
       " datetime.date(2016, 10, 3),\n",
       " datetime.date(2017, 10, 3),\n",
       " datetime.date(2018, 10, 3),\n",
       " datetime.date(2019, 10, 3),\n",
       " datetime.date(2020, 10, 3),\n",
       " datetime.date(2021, 10, 3),\n",
       " datetime.date(2022, 10, 3),\n",
       " datetime.date(2023, 10, 3),\n",
       " datetime.date(2024, 10, 3),\n",
       " datetime.date(2025, 10, 3),\n",
       " datetime.date(2026, 10, 3),\n",
       " datetime.date(2027, 10, 4),\n",
       " datetime.date(2028, 10, 4),\n",
       " datetime.date(2029, 10, 4),\n",
       " datetime.date(2030, 10, 4),\n",
       " datetime.date(2031, 10, 4),\n",
       " datetime.date(2032, 10, 4),\n",
       " datetime.date(2033, 10, 4),\n",
       " datetime.date(2034, 10, 4),\n",
       " datetime.date(2035, 10, 4),\n",
       " datetime.date(2036, 10, 4),\n",
       " datetime.date(2037, 10, 4),\n",
       " datetime.date(2038, 10, 4),\n",
       " datetime.date(2039, 10, 4),\n",
       " datetime.date(2040, 10, 4),\n",
       " datetime.date(2041, 10, 4),\n",
       " datetime.date(2042, 10, 3)]"
      ]
     },
     "execution_count": 94,
     "metadata": {},
     "output_type": "execute_result"
    }
   ],
   "source": [
    "T"
   ]
  },
  {
   "cell_type": "code",
   "execution_count": 92,
   "metadata": {
    "collapsed": false
   },
   "outputs": [
    {
     "data": {
      "text/plain": [
       "[datetime.date(2012, 10, 4),\n",
       " datetime.date(2012, 11, 5),\n",
       " datetime.date(2013, 1, 3),\n",
       " datetime.date(2013, 3, 20),\n",
       " datetime.date(2013, 4, 3),\n",
       " datetime.date(2013, 6, 19),\n",
       " datetime.date(2013, 9, 18),\n",
       " datetime.date(2013, 10, 3),\n",
       " datetime.date(2013, 12, 18),\n",
       " datetime.date(2014, 3, 19),\n",
       " datetime.date(2014, 10, 3),\n",
       " datetime.date(2015, 10, 5),\n",
       " datetime.date(2016, 10, 3),\n",
       " datetime.date(2017, 10, 3),\n",
       " datetime.date(2018, 10, 3),\n",
       " datetime.date(2019, 10, 3),\n",
       " datetime.date(2020, 10, 3),\n",
       " datetime.date(2021, 10, 3),\n",
       " datetime.date(2022, 10, 3),\n",
       " datetime.date(2023, 10, 3),\n",
       " datetime.date(2024, 10, 3),\n",
       " datetime.date(2025, 10, 3),\n",
       " datetime.date(2026, 10, 3),\n",
       " datetime.date(2027, 10, 4),\n",
       " datetime.date(2028, 10, 4),\n",
       " datetime.date(2029, 10, 4),\n",
       " datetime.date(2030, 10, 4),\n",
       " datetime.date(2031, 10, 4),\n",
       " datetime.date(2032, 10, 4),\n",
       " datetime.date(2033, 10, 4),\n",
       " datetime.date(2034, 10, 4),\n",
       " datetime.date(2035, 10, 4),\n",
       " datetime.date(2036, 10, 4),\n",
       " datetime.date(2037, 10, 4),\n",
       " datetime.date(2038, 10, 4),\n",
       " datetime.date(2039, 10, 4),\n",
       " datetime.date(2040, 10, 4),\n",
       " datetime.date(2041, 10, 4),\n",
       " datetime.date(2042, 10, 3)]"
      ]
     },
     "execution_count": 92,
     "metadata": {},
     "output_type": "execute_result"
    }
   ],
   "source": [
    "total"
   ]
  },
  {
   "cell_type": "code",
   "execution_count": null,
   "metadata": {
    "collapsed": true
   },
   "outputs": [],
   "source": []
  },
  {
   "cell_type": "code",
   "execution_count": null,
   "metadata": {
    "collapsed": true
   },
   "outputs": [],
   "source": []
  },
  {
   "cell_type": "code",
   "execution_count": 124,
   "metadata": {
    "collapsed": false
   },
   "outputs": [],
   "source": [
    "dates.update([1,3,4,5])"
   ]
  },
  {
   "cell_type": "code",
   "execution_count": 125,
   "metadata": {
    "collapsed": false
   },
   "outputs": [
    {
     "data": {
      "text/plain": [
       "{1, 3, 4, 5}"
      ]
     },
     "execution_count": 125,
     "metadata": {},
     "output_type": "execute_result"
    }
   ],
   "source": [
    "dates"
   ]
  },
  {
   "cell_type": "code",
   "execution_count": 132,
   "metadata": {
    "collapsed": false
   },
   "outputs": [
    {
     "data": {
      "text/plain": [
       "2"
      ]
     },
     "execution_count": 132,
     "metadata": {},
     "output_type": "execute_result"
    }
   ],
   "source": [
    "total.index(total[2])"
   ]
  },
  {
   "cell_type": "code",
   "execution_count": null,
   "metadata": {
    "collapsed": true
   },
   "outputs": [],
   "source": []
  },
  {
   "cell_type": "code",
   "execution_count": null,
   "metadata": {
    "collapsed": true
   },
   "outputs": [],
   "source": []
  }
 ],
 "metadata": {
  "anaconda-cloud": {},
  "kernelspec": {
   "display_name": "Python [default]",
   "language": "python",
   "name": "python3"
  },
  "language_info": {
   "codemirror_mode": {
    "name": "ipython",
    "version": 3
   },
   "file_extension": ".py",
   "mimetype": "text/x-python",
   "name": "python",
   "nbconvert_exporter": "python",
   "pygments_lexer": "ipython3",
   "version": "3.5.2"
  }
 },
 "nbformat": 4,
 "nbformat_minor": 1
}
