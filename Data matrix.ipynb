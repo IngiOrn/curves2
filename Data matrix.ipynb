{
 "cells": [
  {
   "cell_type": "code",
   "execution_count": 2,
   "metadata": {
    "collapsed": true,
    "deletable": true,
    "editable": true
   },
   "outputs": [],
   "source": [
    "import pandas as pd\n",
    "import datetime as dt\n",
    "f = lambda x: x.date()"
   ]
  },
  {
   "cell_type": "code",
   "execution_count": 3,
   "metadata": {
    "collapsed": false,
    "deletable": true,
    "editable": true
   },
   "outputs": [],
   "source": [
    "days = pd.read_excel('paymentdays.xlsx')\n",
    "matrix = pd.read_excel('matrix.xlsx')\n",
    "swapdays = pd.read_excel('swap_days.xlsx') \n",
    "futuredays = pd.read_excel('F_days.xlsx')\n",
    "swapmat = pd.read_excel('swapm.xlsx')"
   ]
  },
  {
   "cell_type": "code",
   "execution_count": 4,
   "metadata": {
    "collapsed": false,
    "deletable": true,
    "editable": true
   },
   "outputs": [],
   "source": [
    "days['date'] = days['days'].dt.to_pydatetime()\n",
    "swapdays['date'] = swapdays['days'].dt.to_pydatetime()\n",
    "futuredays['date'] = futuredays['days'].dt.to_pydatetime()\n",
    "swapmat['date'] = swapmat['days'].dt.to_pydatetime()"
   ]
  },
  {
   "cell_type": "code",
   "execution_count": 5,
   "metadata": {
    "collapsed": false,
    "deletable": true,
    "editable": true
   },
   "outputs": [],
   "source": [
    "days['date'] = days['date'].apply(f)\n",
    "swapdays['date'] = swapdays['date'].apply(f)\n",
    "futuredays['date'] = futuredays['date'].apply(f)\n",
    "swapmat['date'] = swapmat['date'].apply(f)"
   ]
  },
  {
   "cell_type": "code",
   "execution_count": 6,
   "metadata": {
    "collapsed": false,
    "deletable": true,
    "editable": true
   },
   "outputs": [],
   "source": [
    "swdays = swapdays['date'].as_matrix().tolist()\n",
    "fdays = futuredays['date'].as_matrix().tolist()"
   ]
  },
  {
   "cell_type": "code",
   "execution_count": 9,
   "metadata": {
    "collapsed": true,
    "deletable": true,
    "editable": true
   },
   "outputs": [],
   "source": [
    "swdays = swapdays['date'].as_matrix()"
   ]
  },
  {
   "cell_type": "code",
   "execution_count": 72,
   "metadata": {
    "collapsed": false,
    "deletable": true,
    "editable": true
   },
   "outputs": [],
   "source": [
    "#pd.DataFrame(swdays)"
   ]
  },
  {
   "cell_type": "code",
   "execution_count": 13,
   "metadata": {
    "collapsed": false,
    "deletable": true,
    "editable": true
   },
   "outputs": [],
   "source": [
    "swapmat = swapmat['date'].as_matrix()"
   ]
  },
  {
   "cell_type": "code",
   "execution_count": 18,
   "metadata": {
    "collapsed": false,
    "deletable": true,
    "editable": true
   },
   "outputs": [],
   "source": [
    "swhere = []\n",
    "for d in swapmat:\n",
    "    swhere.append(swdays[swdays < d].tolist())"
   ]
  },
  {
   "cell_type": "code",
   "execution_count": 69,
   "metadata": {
    "collapsed": false,
    "deletable": true,
    "editable": true
   },
   "outputs": [
    {
     "data": {
      "text/plain": [
       "array([datetime.date(2014, 10, 3), datetime.date(2015, 10, 5),\n",
       "       datetime.date(2016, 10, 3), datetime.date(2017, 10, 3),\n",
       "       datetime.date(2019, 10, 3), datetime.date(2022, 10, 3),\n",
       "       datetime.date(2027, 10, 4), datetime.date(2032, 10, 4),\n",
       "       datetime.date(2042, 10, 3)], dtype=object)"
      ]
     },
     "execution_count": 69,
     "metadata": {},
     "output_type": "execute_result"
    }
   ],
   "source": [
    "swapmat"
   ]
  },
  {
   "cell_type": "code",
   "execution_count": 73,
   "metadata": {
    "collapsed": false,
    "deletable": true,
    "editable": true
   },
   "outputs": [
    {
     "data": {
      "text/plain": [
       "[[datetime.date(2013, 10, 3)],\n",
       " [datetime.date(2013, 10, 3), datetime.date(2014, 10, 3)],\n",
       " [datetime.date(2013, 10, 3),\n",
       "  datetime.date(2014, 10, 3),\n",
       "  datetime.date(2015, 10, 5)],\n",
       " [datetime.date(2013, 10, 3),\n",
       "  datetime.date(2014, 10, 3),\n",
       "  datetime.date(2015, 10, 5),\n",
       "  datetime.date(2016, 10, 3)],\n",
       " [datetime.date(2013, 10, 3),\n",
       "  datetime.date(2014, 10, 3),\n",
       "  datetime.date(2015, 10, 5),\n",
       "  datetime.date(2016, 10, 3),\n",
       "  datetime.date(2017, 10, 3),\n",
       "  datetime.date(2018, 10, 3)],\n",
       " [datetime.date(2013, 10, 3),\n",
       "  datetime.date(2014, 10, 3),\n",
       "  datetime.date(2015, 10, 5),\n",
       "  datetime.date(2016, 10, 3),\n",
       "  datetime.date(2017, 10, 3),\n",
       "  datetime.date(2018, 10, 3),\n",
       "  datetime.date(2019, 10, 3),\n",
       "  datetime.date(2020, 10, 3),\n",
       "  datetime.date(2021, 10, 3)],\n",
       " [datetime.date(2013, 10, 3),\n",
       "  datetime.date(2014, 10, 3),\n",
       "  datetime.date(2015, 10, 5),\n",
       "  datetime.date(2016, 10, 3),\n",
       "  datetime.date(2017, 10, 3),\n",
       "  datetime.date(2018, 10, 3),\n",
       "  datetime.date(2019, 10, 3),\n",
       "  datetime.date(2020, 10, 3),\n",
       "  datetime.date(2021, 10, 3),\n",
       "  datetime.date(2022, 10, 3),\n",
       "  datetime.date(2023, 10, 3),\n",
       "  datetime.date(2024, 10, 3),\n",
       "  datetime.date(2025, 10, 3),\n",
       "  datetime.date(2026, 10, 3)],\n",
       " [datetime.date(2013, 10, 3),\n",
       "  datetime.date(2014, 10, 3),\n",
       "  datetime.date(2015, 10, 5),\n",
       "  datetime.date(2016, 10, 3),\n",
       "  datetime.date(2017, 10, 3),\n",
       "  datetime.date(2018, 10, 3),\n",
       "  datetime.date(2019, 10, 3),\n",
       "  datetime.date(2020, 10, 3),\n",
       "  datetime.date(2021, 10, 3),\n",
       "  datetime.date(2022, 10, 3),\n",
       "  datetime.date(2023, 10, 3),\n",
       "  datetime.date(2024, 10, 3),\n",
       "  datetime.date(2025, 10, 3),\n",
       "  datetime.date(2026, 10, 3),\n",
       "  datetime.date(2027, 10, 4),\n",
       "  datetime.date(2028, 10, 4),\n",
       "  datetime.date(2029, 10, 4),\n",
       "  datetime.date(2030, 10, 4),\n",
       "  datetime.date(2031, 10, 4)],\n",
       " [datetime.date(2013, 10, 3),\n",
       "  datetime.date(2014, 10, 3),\n",
       "  datetime.date(2015, 10, 5),\n",
       "  datetime.date(2016, 10, 3),\n",
       "  datetime.date(2017, 10, 3),\n",
       "  datetime.date(2018, 10, 3),\n",
       "  datetime.date(2019, 10, 3),\n",
       "  datetime.date(2020, 10, 3),\n",
       "  datetime.date(2021, 10, 3),\n",
       "  datetime.date(2022, 10, 3),\n",
       "  datetime.date(2023, 10, 3),\n",
       "  datetime.date(2024, 10, 3),\n",
       "  datetime.date(2025, 10, 3),\n",
       "  datetime.date(2026, 10, 3),\n",
       "  datetime.date(2027, 10, 4),\n",
       "  datetime.date(2028, 10, 4),\n",
       "  datetime.date(2029, 10, 4),\n",
       "  datetime.date(2030, 10, 4),\n",
       "  datetime.date(2031, 10, 4),\n",
       "  datetime.date(2032, 10, 4),\n",
       "  datetime.date(2033, 10, 4),\n",
       "  datetime.date(2034, 10, 4),\n",
       "  datetime.date(2035, 10, 4),\n",
       "  datetime.date(2036, 10, 4),\n",
       "  datetime.date(2037, 10, 4),\n",
       "  datetime.date(2038, 10, 4),\n",
       "  datetime.date(2039, 10, 4),\n",
       "  datetime.date(2040, 10, 4),\n",
       "  datetime.date(2041, 10, 4)]]"
      ]
     },
     "execution_count": 73,
     "metadata": {},
     "output_type": "execute_result"
    }
   ],
   "source": [
    "swhere"
   ]
  },
  {
   "cell_type": "code",
   "execution_count": 27,
   "metadata": {
    "collapsed": false,
    "deletable": true,
    "editable": true
   },
   "outputs": [
    {
     "ename": "AttributeError",
     "evalue": "'numpy.ndarray' object has no attribute 'date'",
     "traceback": [
      "\u001b[0;31m---------------------------------------------------------------------------\u001b[0m",
      "\u001b[0;31mAttributeError\u001b[0m                            Traceback (most recent call last)",
      "\u001b[0;32m<ipython-input-27-6ac9de39063a>\u001b[0m in \u001b[0;36m<module>\u001b[0;34m()\u001b[0m\n\u001b[0;32m----> 1\u001b[0;31m \u001b[0mpaymentdays\u001b[0m \u001b[0;34m=\u001b[0m \u001b[0mdays\u001b[0m\u001b[0;34m[\u001b[0m\u001b[0;34m'days'\u001b[0m\u001b[0;34m]\u001b[0m\u001b[0;34m.\u001b[0m\u001b[0mdt\u001b[0m\u001b[0;34m.\u001b[0m\u001b[0mto_pydatetime\u001b[0m\u001b[0;34m(\u001b[0m\u001b[0;34m)\u001b[0m\u001b[0;34m.\u001b[0m\u001b[0mdate\u001b[0m\u001b[0;34m(\u001b[0m\u001b[0;34m)\u001b[0m\u001b[0;34m\u001b[0m\u001b[0m\n\u001b[0m",
      "\u001b[0;31mAttributeError\u001b[0m: 'numpy.ndarray' object has no attribute 'date'"
     ],
     "output_type": "error"
    }
   ],
   "source": [
    "paymentdays = days['days'].dt.to_pydatetime()"
   ]
  },
  {
   "cell_type": "code",
   "execution_count": 4,
   "metadata": {
    "collapsed": false,
    "deletable": true,
    "editable": true
   },
   "outputs": [
    {
     "data": {
      "text/plain": [
       "datetime.datetime(2024, 10, 3, 0, 0)"
      ]
     },
     "execution_count": 4,
     "metadata": {},
     "output_type": "execute_result"
    }
   ],
   "source": [
    "paymentdays[20]"
   ]
  },
  {
   "cell_type": "code",
   "execution_count": 9,
   "metadata": {
    "collapsed": false,
    "deletable": true,
    "editable": true
   },
   "outputs": [
    {
     "data": {
      "text/plain": [
       "datetime.date(2013, 1, 3)"
      ]
     },
     "execution_count": 9,
     "metadata": {},
     "output_type": "execute_result"
    }
   ],
   "source": [
    "matrix['Maturity Dates'][2].to_pydatetime().date()"
   ]
  },
  {
   "cell_type": "code",
   "execution_count": 35,
   "metadata": {
    "collapsed": false,
    "deletable": true,
    "editable": true
   },
   "outputs": [
    {
     "ename": "AssertionError",
     "evalue": "1 columns passed, passed data had 2 columns",
     "traceback": [
      "\u001b[0;31m---------------------------------------------------------------------------\u001b[0m",
      "\u001b[0;31mAssertionError\u001b[0m                            Traceback (most recent call last)",
      "\u001b[0;32m<ipython-input-35-eaa4e069928d>\u001b[0m in \u001b[0;36m<module>\u001b[0;34m()\u001b[0m\n\u001b[0;32m----> 1\u001b[0;31m \u001b[0mpd\u001b[0m\u001b[0;34m.\u001b[0m\u001b[0mDataFrame\u001b[0m\u001b[0;34m(\u001b[0m\u001b[0;34m[\u001b[0m\u001b[0;34m(\u001b[0m\u001b[0;32mNone\u001b[0m\u001b[0;34m,\u001b[0m\u001b[0;36m2\u001b[0m\u001b[0;34m)\u001b[0m\u001b[0;34m,\u001b[0m\u001b[0;34m(\u001b[0m\u001b[0;36m2\u001b[0m\u001b[0;34m,\u001b[0m\u001b[0;36m3\u001b[0m\u001b[0;34m)\u001b[0m\u001b[0;34m]\u001b[0m\u001b[0;34m,\u001b[0m \u001b[0mcolumns\u001b[0m\u001b[0;34m=\u001b[0m\u001b[0;34m'A'\u001b[0m\u001b[0;34m)\u001b[0m\u001b[0;34m\u001b[0m\u001b[0m\n\u001b[0m",
      "\u001b[0;32m/Users/ingiornpetursson/.local/lib/python3.5/site-packages/pandas/core/frame.py\u001b[0m in \u001b[0;36m__init__\u001b[0;34m(self, data, index, columns, dtype, copy)\u001b[0m\n\u001b[1;32m    261\u001b[0m                     \u001b[0;32mif\u001b[0m \u001b[0mcom\u001b[0m\u001b[0;34m.\u001b[0m\u001b[0mis_named_tuple\u001b[0m\u001b[0;34m(\u001b[0m\u001b[0mdata\u001b[0m\u001b[0;34m[\u001b[0m\u001b[0;36m0\u001b[0m\u001b[0;34m]\u001b[0m\u001b[0;34m)\u001b[0m \u001b[0;32mand\u001b[0m \u001b[0mcolumns\u001b[0m \u001b[0;32mis\u001b[0m \u001b[0;32mNone\u001b[0m\u001b[0;34m:\u001b[0m\u001b[0;34m\u001b[0m\u001b[0m\n\u001b[1;32m    262\u001b[0m                         \u001b[0mcolumns\u001b[0m \u001b[0;34m=\u001b[0m \u001b[0mdata\u001b[0m\u001b[0;34m[\u001b[0m\u001b[0;36m0\u001b[0m\u001b[0;34m]\u001b[0m\u001b[0;34m.\u001b[0m\u001b[0m_fields\u001b[0m\u001b[0;34m\u001b[0m\u001b[0m\n\u001b[0;32m--> 263\u001b[0;31m                     \u001b[0marrays\u001b[0m\u001b[0;34m,\u001b[0m \u001b[0mcolumns\u001b[0m \u001b[0;34m=\u001b[0m \u001b[0m_to_arrays\u001b[0m\u001b[0;34m(\u001b[0m\u001b[0mdata\u001b[0m\u001b[0;34m,\u001b[0m \u001b[0mcolumns\u001b[0m\u001b[0;34m,\u001b[0m \u001b[0mdtype\u001b[0m\u001b[0;34m=\u001b[0m\u001b[0mdtype\u001b[0m\u001b[0;34m)\u001b[0m\u001b[0;34m\u001b[0m\u001b[0m\n\u001b[0m\u001b[1;32m    264\u001b[0m                     \u001b[0mcolumns\u001b[0m \u001b[0;34m=\u001b[0m \u001b[0m_ensure_index\u001b[0m\u001b[0;34m(\u001b[0m\u001b[0mcolumns\u001b[0m\u001b[0;34m)\u001b[0m\u001b[0;34m\u001b[0m\u001b[0m\n\u001b[1;32m    265\u001b[0m \u001b[0;34m\u001b[0m\u001b[0m\n",
      "\u001b[0;32m/Users/ingiornpetursson/.local/lib/python3.5/site-packages/pandas/core/frame.py\u001b[0m in \u001b[0;36m_to_arrays\u001b[0;34m(data, columns, coerce_float, dtype)\u001b[0m\n\u001b[1;32m   5350\u001b[0m     \u001b[0;32mif\u001b[0m \u001b[0misinstance\u001b[0m\u001b[0;34m(\u001b[0m\u001b[0mdata\u001b[0m\u001b[0;34m[\u001b[0m\u001b[0;36m0\u001b[0m\u001b[0;34m]\u001b[0m\u001b[0;34m,\u001b[0m \u001b[0;34m(\u001b[0m\u001b[0mlist\u001b[0m\u001b[0;34m,\u001b[0m \u001b[0mtuple\u001b[0m\u001b[0;34m)\u001b[0m\u001b[0;34m)\u001b[0m\u001b[0;34m:\u001b[0m\u001b[0;34m\u001b[0m\u001b[0m\n\u001b[1;32m   5351\u001b[0m         return _list_to_arrays(data, columns, coerce_float=coerce_float,\n\u001b[0;32m-> 5352\u001b[0;31m                                dtype=dtype)\n\u001b[0m\u001b[1;32m   5353\u001b[0m     \u001b[0;32melif\u001b[0m \u001b[0misinstance\u001b[0m\u001b[0;34m(\u001b[0m\u001b[0mdata\u001b[0m\u001b[0;34m[\u001b[0m\u001b[0;36m0\u001b[0m\u001b[0;34m]\u001b[0m\u001b[0;34m,\u001b[0m \u001b[0mcollections\u001b[0m\u001b[0;34m.\u001b[0m\u001b[0mMapping\u001b[0m\u001b[0;34m)\u001b[0m\u001b[0;34m:\u001b[0m\u001b[0;34m\u001b[0m\u001b[0m\n\u001b[1;32m   5354\u001b[0m         return _list_of_dict_to_arrays(data, columns,\n",
      "\u001b[0;32m/Users/ingiornpetursson/.local/lib/python3.5/site-packages/pandas/core/frame.py\u001b[0m in \u001b[0;36m_list_to_arrays\u001b[0;34m(data, columns, coerce_float, dtype)\u001b[0m\n\u001b[1;32m   5429\u001b[0m         \u001b[0mcontent\u001b[0m \u001b[0;34m=\u001b[0m \u001b[0mlist\u001b[0m\u001b[0;34m(\u001b[0m\u001b[0mlib\u001b[0m\u001b[0;34m.\u001b[0m\u001b[0mto_object_array\u001b[0m\u001b[0;34m(\u001b[0m\u001b[0mdata\u001b[0m\u001b[0;34m)\u001b[0m\u001b[0;34m.\u001b[0m\u001b[0mT\u001b[0m\u001b[0;34m)\u001b[0m\u001b[0;34m\u001b[0m\u001b[0m\n\u001b[1;32m   5430\u001b[0m     return _convert_object_array(content, columns, dtype=dtype,\n\u001b[0;32m-> 5431\u001b[0;31m                                  coerce_float=coerce_float)\n\u001b[0m\u001b[1;32m   5432\u001b[0m \u001b[0;34m\u001b[0m\u001b[0m\n\u001b[1;32m   5433\u001b[0m \u001b[0;34m\u001b[0m\u001b[0m\n",
      "\u001b[0;32m/Users/ingiornpetursson/.local/lib/python3.5/site-packages/pandas/core/frame.py\u001b[0m in \u001b[0;36m_convert_object_array\u001b[0;34m(content, columns, coerce_float, dtype)\u001b[0m\n\u001b[1;32m   5487\u001b[0m             \u001b[0;31m# caller's responsibility to check for this...\u001b[0m\u001b[0;34m\u001b[0m\u001b[0;34m\u001b[0m\u001b[0m\n\u001b[1;32m   5488\u001b[0m             raise AssertionError('%d columns passed, passed data had %s '\n\u001b[0;32m-> 5489\u001b[0;31m                                  'columns' % (len(columns), len(content)))\n\u001b[0m\u001b[1;32m   5490\u001b[0m \u001b[0;34m\u001b[0m\u001b[0m\n\u001b[1;32m   5491\u001b[0m     \u001b[0;31m# provide soft conversion of object dtypes\u001b[0m\u001b[0;34m\u001b[0m\u001b[0;34m\u001b[0m\u001b[0m\n",
      "\u001b[0;31mAssertionError\u001b[0m: 1 columns passed, passed data had 2 columns"
     ],
     "output_type": "error"
    }
   ],
   "source": [
    "pd.DataFrame([(None,2),(2,3)], columns='A')"
   ]
  },
  {
   "cell_type": "code",
   "execution_count": 42,
   "metadata": {
    "collapsed": false,
    "deletable": true,
    "editable": true
   },
   "outputs": [
    {
     "data": {
      "text/html": [
       "<div>\n",
       "<table border=\"1\" class=\"dataframe\">\n",
       "  <thead>\n",
       "    <tr style=\"text-align: right;\">\n",
       "      <th></th>\n",
       "      <th>Maturity Dates</th>\n",
       "      <th>Market Quotes</th>\n",
       "      <th>Source</th>\n",
       "    </tr>\n",
       "  </thead>\n",
       "  <tbody>\n",
       "    <tr>\n",
       "      <th>0</th>\n",
       "      <td>2012-10-04</td>\n",
       "      <td>0.0950</td>\n",
       "      <td>LIBOR</td>\n",
       "    </tr>\n",
       "    <tr>\n",
       "      <th>1</th>\n",
       "      <td>2012-11-05</td>\n",
       "      <td>0.1160</td>\n",
       "      <td>LIBOR</td>\n",
       "    </tr>\n",
       "    <tr>\n",
       "      <th>2</th>\n",
       "      <td>2013-01-03</td>\n",
       "      <td>0.2230</td>\n",
       "      <td>LIBOR</td>\n",
       "    </tr>\n",
       "    <tr>\n",
       "      <th>3</th>\n",
       "      <td>2013-04-03</td>\n",
       "      <td>0.4380</td>\n",
       "      <td>LIBOR</td>\n",
       "    </tr>\n",
       "    <tr>\n",
       "      <th>4</th>\n",
       "      <td>2013-06-19</td>\n",
       "      <td>99.7860</td>\n",
       "      <td>Futures</td>\n",
       "    </tr>\n",
       "    <tr>\n",
       "      <th>5</th>\n",
       "      <td>2013-09-18</td>\n",
       "      <td>99.7520</td>\n",
       "      <td>Futures</td>\n",
       "    </tr>\n",
       "    <tr>\n",
       "      <th>6</th>\n",
       "      <td>2013-12-18</td>\n",
       "      <td>99.7230</td>\n",
       "      <td>Futures</td>\n",
       "    </tr>\n",
       "    <tr>\n",
       "      <th>7</th>\n",
       "      <td>2014-03-19</td>\n",
       "      <td>99.6690</td>\n",
       "      <td>Futures</td>\n",
       "    </tr>\n",
       "    <tr>\n",
       "      <th>8</th>\n",
       "      <td>2014-10-03</td>\n",
       "      <td>0.4750</td>\n",
       "      <td>Swap</td>\n",
       "    </tr>\n",
       "    <tr>\n",
       "      <th>9</th>\n",
       "      <td>2015-10-05</td>\n",
       "      <td>0.5860</td>\n",
       "      <td>Swap</td>\n",
       "    </tr>\n",
       "    <tr>\n",
       "      <th>10</th>\n",
       "      <td>2016-10-03</td>\n",
       "      <td>0.7520</td>\n",
       "      <td>Swap</td>\n",
       "    </tr>\n",
       "    <tr>\n",
       "      <th>11</th>\n",
       "      <td>2017-10-03</td>\n",
       "      <td>0.9420</td>\n",
       "      <td>Swap</td>\n",
       "    </tr>\n",
       "    <tr>\n",
       "      <th>12</th>\n",
       "      <td>2019-10-03</td>\n",
       "      <td>1.3244</td>\n",
       "      <td>Swap</td>\n",
       "    </tr>\n",
       "    <tr>\n",
       "      <th>13</th>\n",
       "      <td>2022-10-03</td>\n",
       "      <td>1.7390</td>\n",
       "      <td>Swap</td>\n",
       "    </tr>\n",
       "    <tr>\n",
       "      <th>14</th>\n",
       "      <td>2027-10-04</td>\n",
       "      <td>2.1650</td>\n",
       "      <td>Swap</td>\n",
       "    </tr>\n",
       "    <tr>\n",
       "      <th>15</th>\n",
       "      <td>2032-10-04</td>\n",
       "      <td>2.2800</td>\n",
       "      <td>Swap</td>\n",
       "    </tr>\n",
       "    <tr>\n",
       "      <th>16</th>\n",
       "      <td>2042-10-03</td>\n",
       "      <td>2.3320</td>\n",
       "      <td>Swap</td>\n",
       "    </tr>\n",
       "  </tbody>\n",
       "</table>\n",
       "</div>"
      ],
      "text/plain": [
       "   Maturity Dates  Market Quotes   Source\n",
       "0      2012-10-04         0.0950    LIBOR\n",
       "1      2012-11-05         0.1160    LIBOR\n",
       "2      2013-01-03         0.2230    LIBOR\n",
       "3      2013-04-03         0.4380    LIBOR\n",
       "4      2013-06-19        99.7860  Futures\n",
       "5      2013-09-18        99.7520  Futures\n",
       "6      2013-12-18        99.7230  Futures\n",
       "7      2014-03-19        99.6690  Futures\n",
       "8      2014-10-03         0.4750     Swap\n",
       "9      2015-10-05         0.5860     Swap\n",
       "10     2016-10-03         0.7520     Swap\n",
       "11     2017-10-03         0.9420     Swap\n",
       "12     2019-10-03         1.3244     Swap\n",
       "13     2022-10-03         1.7390     Swap\n",
       "14     2027-10-04         2.1650     Swap\n",
       "15     2032-10-04         2.2800     Swap\n",
       "16     2042-10-03         2.3320     Swap"
      ]
     },
     "execution_count": 42,
     "metadata": {},
     "output_type": "execute_result"
    }
   ],
   "source": [
    "matrix"
   ]
  },
  {
   "cell_type": "code",
   "execution_count": 43,
   "metadata": {
    "collapsed": false,
    "deletable": true,
    "editable": true
   },
   "outputs": [],
   "source": [
    "matrix['Maturity'] = matrix['Maturity Dates'].dt.to_pydatetime()"
   ]
  },
  {
   "cell_type": "code",
   "execution_count": 56,
   "metadata": {
    "collapsed": false,
    "deletable": true,
    "editable": true
   },
   "outputs": [],
   "source": [
    "matrix.to_pickle(\"market.p\")"
   ]
  },
  {
   "cell_type": "code",
   "execution_count": 57,
   "metadata": {
    "collapsed": false,
    "deletable": true,
    "editable": true
   },
   "outputs": [
    {
     "data": {
      "text/html": [
       "<div>\n",
       "<table border=\"1\" class=\"dataframe\">\n",
       "  <thead>\n",
       "    <tr style=\"text-align: right;\">\n",
       "      <th></th>\n",
       "      <th>Maturity Dates</th>\n",
       "      <th>Market Quotes</th>\n",
       "      <th>Source</th>\n",
       "      <th>Maturity</th>\n",
       "    </tr>\n",
       "  </thead>\n",
       "  <tbody>\n",
       "    <tr>\n",
       "      <th>0</th>\n",
       "      <td>2012-10-04</td>\n",
       "      <td>0.0950</td>\n",
       "      <td>LIBOR</td>\n",
       "      <td>2012-10-04</td>\n",
       "    </tr>\n",
       "    <tr>\n",
       "      <th>1</th>\n",
       "      <td>2012-11-05</td>\n",
       "      <td>0.1160</td>\n",
       "      <td>LIBOR</td>\n",
       "      <td>2012-11-05</td>\n",
       "    </tr>\n",
       "    <tr>\n",
       "      <th>2</th>\n",
       "      <td>2013-01-03</td>\n",
       "      <td>0.2230</td>\n",
       "      <td>LIBOR</td>\n",
       "      <td>2013-01-03</td>\n",
       "    </tr>\n",
       "    <tr>\n",
       "      <th>3</th>\n",
       "      <td>2013-04-03</td>\n",
       "      <td>0.4380</td>\n",
       "      <td>LIBOR</td>\n",
       "      <td>2013-04-03</td>\n",
       "    </tr>\n",
       "    <tr>\n",
       "      <th>4</th>\n",
       "      <td>2013-06-19</td>\n",
       "      <td>99.7860</td>\n",
       "      <td>Futures</td>\n",
       "      <td>2013-06-19</td>\n",
       "    </tr>\n",
       "    <tr>\n",
       "      <th>5</th>\n",
       "      <td>2013-09-18</td>\n",
       "      <td>99.7520</td>\n",
       "      <td>Futures</td>\n",
       "      <td>2013-09-18</td>\n",
       "    </tr>\n",
       "    <tr>\n",
       "      <th>6</th>\n",
       "      <td>2013-12-18</td>\n",
       "      <td>99.7230</td>\n",
       "      <td>Futures</td>\n",
       "      <td>2013-12-18</td>\n",
       "    </tr>\n",
       "    <tr>\n",
       "      <th>7</th>\n",
       "      <td>2014-03-19</td>\n",
       "      <td>99.6690</td>\n",
       "      <td>Futures</td>\n",
       "      <td>2014-03-19</td>\n",
       "    </tr>\n",
       "    <tr>\n",
       "      <th>8</th>\n",
       "      <td>2014-10-03</td>\n",
       "      <td>0.4750</td>\n",
       "      <td>Swap</td>\n",
       "      <td>2014-10-03</td>\n",
       "    </tr>\n",
       "    <tr>\n",
       "      <th>9</th>\n",
       "      <td>2015-10-05</td>\n",
       "      <td>0.5860</td>\n",
       "      <td>Swap</td>\n",
       "      <td>2015-10-05</td>\n",
       "    </tr>\n",
       "    <tr>\n",
       "      <th>10</th>\n",
       "      <td>2016-10-03</td>\n",
       "      <td>0.7520</td>\n",
       "      <td>Swap</td>\n",
       "      <td>2016-10-03</td>\n",
       "    </tr>\n",
       "    <tr>\n",
       "      <th>11</th>\n",
       "      <td>2017-10-03</td>\n",
       "      <td>0.9420</td>\n",
       "      <td>Swap</td>\n",
       "      <td>2017-10-03</td>\n",
       "    </tr>\n",
       "    <tr>\n",
       "      <th>12</th>\n",
       "      <td>2019-10-03</td>\n",
       "      <td>1.3244</td>\n",
       "      <td>Swap</td>\n",
       "      <td>2019-10-03</td>\n",
       "    </tr>\n",
       "    <tr>\n",
       "      <th>13</th>\n",
       "      <td>2022-10-03</td>\n",
       "      <td>1.7390</td>\n",
       "      <td>Swap</td>\n",
       "      <td>2022-10-03</td>\n",
       "    </tr>\n",
       "    <tr>\n",
       "      <th>14</th>\n",
       "      <td>2027-10-04</td>\n",
       "      <td>2.1650</td>\n",
       "      <td>Swap</td>\n",
       "      <td>2027-10-04</td>\n",
       "    </tr>\n",
       "    <tr>\n",
       "      <th>15</th>\n",
       "      <td>2032-10-04</td>\n",
       "      <td>2.2800</td>\n",
       "      <td>Swap</td>\n",
       "      <td>2032-10-04</td>\n",
       "    </tr>\n",
       "    <tr>\n",
       "      <th>16</th>\n",
       "      <td>2042-10-03</td>\n",
       "      <td>2.3320</td>\n",
       "      <td>Swap</td>\n",
       "      <td>2042-10-03</td>\n",
       "    </tr>\n",
       "  </tbody>\n",
       "</table>\n",
       "</div>"
      ],
      "text/plain": [
       "   Maturity Dates  Market Quotes   Source   Maturity\n",
       "0      2012-10-04         0.0950    LIBOR 2012-10-04\n",
       "1      2012-11-05         0.1160    LIBOR 2012-11-05\n",
       "2      2013-01-03         0.2230    LIBOR 2013-01-03\n",
       "3      2013-04-03         0.4380    LIBOR 2013-04-03\n",
       "4      2013-06-19        99.7860  Futures 2013-06-19\n",
       "5      2013-09-18        99.7520  Futures 2013-09-18\n",
       "6      2013-12-18        99.7230  Futures 2013-12-18\n",
       "7      2014-03-19        99.6690  Futures 2014-03-19\n",
       "8      2014-10-03         0.4750     Swap 2014-10-03\n",
       "9      2015-10-05         0.5860     Swap 2015-10-05\n",
       "10     2016-10-03         0.7520     Swap 2016-10-03\n",
       "11     2017-10-03         0.9420     Swap 2017-10-03\n",
       "12     2019-10-03         1.3244     Swap 2019-10-03\n",
       "13     2022-10-03         1.7390     Swap 2022-10-03\n",
       "14     2027-10-04         2.1650     Swap 2027-10-04\n",
       "15     2032-10-04         2.2800     Swap 2032-10-04\n",
       "16     2042-10-03         2.3320     Swap 2042-10-03"
      ]
     },
     "execution_count": 57,
     "metadata": {},
     "output_type": "execute_result"
    }
   ],
   "source": [
    "pd.read_pickle('market.p')"
   ]
  },
  {
   "cell_type": "code",
   "execution_count": 27,
   "metadata": {
    "collapsed": false,
    "deletable": true,
    "editable": true
   },
   "outputs": [
    {
     "data": {
      "text/plain": [
       "datetime.timedelta(32)"
      ]
     },
     "execution_count": 27,
     "metadata": {},
     "output_type": "execute_result"
    }
   ],
   "source": [
    "paymentdays[1] - paymentdays[0]"
   ]
  },
  {
   "cell_type": "code",
   "execution_count": 52,
   "metadata": {
    "collapsed": false,
    "deletable": true,
    "editable": true
   },
   "outputs": [
    {
     "data": {
      "text/plain": [
       "datetime.date(2013, 3, 20)"
      ]
     },
     "execution_count": 52,
     "metadata": {},
     "output_type": "execute_result"
    }
   ],
   "source": [
    "paymentdays[3].date()"
   ]
  },
  {
   "cell_type": "code",
   "execution_count": 65,
   "metadata": {
    "collapsed": false,
    "deletable": true,
    "editable": true
   },
   "outputs": [],
   "source": [
    "P = [[None],[None],[None],[None]]+[[fdays[i]] for i in range(len(fdays))]+[swhere[i] for i in range(len(swapmat))]"
   ]
  },
  {
   "cell_type": "code",
   "execution_count": 66,
   "metadata": {
    "collapsed": false,
    "deletable": true,
    "editable": true
   },
   "outputs": [
    {
     "data": {
      "text/plain": [
       "[[None],\n",
       " [None],\n",
       " [None],\n",
       " [None],\n",
       " [datetime.date(2013, 3, 20)],\n",
       " [datetime.date(2013, 6, 19)],\n",
       " [datetime.date(2013, 9, 18)],\n",
       " [datetime.date(2013, 12, 18)],\n",
       " [datetime.date(2013, 10, 3)],\n",
       " [datetime.date(2013, 10, 3), datetime.date(2014, 10, 3)],\n",
       " [datetime.date(2013, 10, 3),\n",
       "  datetime.date(2014, 10, 3),\n",
       "  datetime.date(2015, 10, 5)],\n",
       " [datetime.date(2013, 10, 3),\n",
       "  datetime.date(2014, 10, 3),\n",
       "  datetime.date(2015, 10, 5),\n",
       "  datetime.date(2016, 10, 3)],\n",
       " [datetime.date(2013, 10, 3),\n",
       "  datetime.date(2014, 10, 3),\n",
       "  datetime.date(2015, 10, 5),\n",
       "  datetime.date(2016, 10, 3),\n",
       "  datetime.date(2017, 10, 3),\n",
       "  datetime.date(2018, 10, 3)],\n",
       " [datetime.date(2013, 10, 3),\n",
       "  datetime.date(2014, 10, 3),\n",
       "  datetime.date(2015, 10, 5),\n",
       "  datetime.date(2016, 10, 3),\n",
       "  datetime.date(2017, 10, 3),\n",
       "  datetime.date(2018, 10, 3),\n",
       "  datetime.date(2019, 10, 3),\n",
       "  datetime.date(2020, 10, 3),\n",
       "  datetime.date(2021, 10, 3)],\n",
       " [datetime.date(2013, 10, 3),\n",
       "  datetime.date(2014, 10, 3),\n",
       "  datetime.date(2015, 10, 5),\n",
       "  datetime.date(2016, 10, 3),\n",
       "  datetime.date(2017, 10, 3),\n",
       "  datetime.date(2018, 10, 3),\n",
       "  datetime.date(2019, 10, 3),\n",
       "  datetime.date(2020, 10, 3),\n",
       "  datetime.date(2021, 10, 3),\n",
       "  datetime.date(2022, 10, 3),\n",
       "  datetime.date(2023, 10, 3),\n",
       "  datetime.date(2024, 10, 3),\n",
       "  datetime.date(2025, 10, 3),\n",
       "  datetime.date(2026, 10, 3)],\n",
       " [datetime.date(2013, 10, 3),\n",
       "  datetime.date(2014, 10, 3),\n",
       "  datetime.date(2015, 10, 5),\n",
       "  datetime.date(2016, 10, 3),\n",
       "  datetime.date(2017, 10, 3),\n",
       "  datetime.date(2018, 10, 3),\n",
       "  datetime.date(2019, 10, 3),\n",
       "  datetime.date(2020, 10, 3),\n",
       "  datetime.date(2021, 10, 3),\n",
       "  datetime.date(2022, 10, 3),\n",
       "  datetime.date(2023, 10, 3),\n",
       "  datetime.date(2024, 10, 3),\n",
       "  datetime.date(2025, 10, 3),\n",
       "  datetime.date(2026, 10, 3),\n",
       "  datetime.date(2027, 10, 4),\n",
       "  datetime.date(2028, 10, 4),\n",
       "  datetime.date(2029, 10, 4),\n",
       "  datetime.date(2030, 10, 4),\n",
       "  datetime.date(2031, 10, 4)],\n",
       " [datetime.date(2013, 10, 3),\n",
       "  datetime.date(2014, 10, 3),\n",
       "  datetime.date(2015, 10, 5),\n",
       "  datetime.date(2016, 10, 3),\n",
       "  datetime.date(2017, 10, 3),\n",
       "  datetime.date(2018, 10, 3),\n",
       "  datetime.date(2019, 10, 3),\n",
       "  datetime.date(2020, 10, 3),\n",
       "  datetime.date(2021, 10, 3),\n",
       "  datetime.date(2022, 10, 3),\n",
       "  datetime.date(2023, 10, 3),\n",
       "  datetime.date(2024, 10, 3),\n",
       "  datetime.date(2025, 10, 3),\n",
       "  datetime.date(2026, 10, 3),\n",
       "  datetime.date(2027, 10, 4),\n",
       "  datetime.date(2028, 10, 4),\n",
       "  datetime.date(2029, 10, 4),\n",
       "  datetime.date(2030, 10, 4),\n",
       "  datetime.date(2031, 10, 4),\n",
       "  datetime.date(2032, 10, 4),\n",
       "  datetime.date(2033, 10, 4),\n",
       "  datetime.date(2034, 10, 4),\n",
       "  datetime.date(2035, 10, 4),\n",
       "  datetime.date(2036, 10, 4),\n",
       "  datetime.date(2037, 10, 4),\n",
       "  datetime.date(2038, 10, 4),\n",
       "  datetime.date(2039, 10, 4),\n",
       "  datetime.date(2040, 10, 4),\n",
       "  datetime.date(2041, 10, 4)]]"
      ]
     },
     "execution_count": 66,
     "metadata": {},
     "output_type": "execute_result"
    }
   ],
   "source": [
    "P"
   ]
  },
  {
   "cell_type": "code",
   "execution_count": 23,
   "metadata": {
    "collapsed": false,
    "deletable": true,
    "editable": true
   },
   "outputs": [
    {
     "data": {
      "text/plain": [
       "[[datetime.date(2013, 10, 3)],\n",
       " [datetime.date(2013, 10, 3), datetime.date(2014, 10, 3)],\n",
       " [datetime.date(2013, 10, 3),\n",
       "  datetime.date(2014, 10, 3),\n",
       "  datetime.date(2015, 10, 5)],\n",
       " [datetime.date(2013, 10, 3),\n",
       "  datetime.date(2014, 10, 3),\n",
       "  datetime.date(2015, 10, 5),\n",
       "  datetime.date(2016, 10, 3)],\n",
       " [datetime.date(2013, 10, 3),\n",
       "  datetime.date(2014, 10, 3),\n",
       "  datetime.date(2015, 10, 5),\n",
       "  datetime.date(2016, 10, 3),\n",
       "  datetime.date(2017, 10, 3),\n",
       "  datetime.date(2018, 10, 3)],\n",
       " [datetime.date(2013, 10, 3),\n",
       "  datetime.date(2014, 10, 3),\n",
       "  datetime.date(2015, 10, 5),\n",
       "  datetime.date(2016, 10, 3),\n",
       "  datetime.date(2017, 10, 3),\n",
       "  datetime.date(2018, 10, 3),\n",
       "  datetime.date(2019, 10, 3),\n",
       "  datetime.date(2020, 10, 3),\n",
       "  datetime.date(2021, 10, 3)],\n",
       " [datetime.date(2013, 10, 3),\n",
       "  datetime.date(2014, 10, 3),\n",
       "  datetime.date(2015, 10, 5),\n",
       "  datetime.date(2016, 10, 3),\n",
       "  datetime.date(2017, 10, 3),\n",
       "  datetime.date(2018, 10, 3),\n",
       "  datetime.date(2019, 10, 3),\n",
       "  datetime.date(2020, 10, 3),\n",
       "  datetime.date(2021, 10, 3),\n",
       "  datetime.date(2022, 10, 3),\n",
       "  datetime.date(2023, 10, 3),\n",
       "  datetime.date(2024, 10, 3),\n",
       "  datetime.date(2025, 10, 3),\n",
       "  datetime.date(2026, 10, 3)],\n",
       " [datetime.date(2013, 10, 3),\n",
       "  datetime.date(2014, 10, 3),\n",
       "  datetime.date(2015, 10, 5),\n",
       "  datetime.date(2016, 10, 3),\n",
       "  datetime.date(2017, 10, 3),\n",
       "  datetime.date(2018, 10, 3),\n",
       "  datetime.date(2019, 10, 3),\n",
       "  datetime.date(2020, 10, 3),\n",
       "  datetime.date(2021, 10, 3),\n",
       "  datetime.date(2022, 10, 3),\n",
       "  datetime.date(2023, 10, 3),\n",
       "  datetime.date(2024, 10, 3),\n",
       "  datetime.date(2025, 10, 3),\n",
       "  datetime.date(2026, 10, 3),\n",
       "  datetime.date(2027, 10, 4),\n",
       "  datetime.date(2028, 10, 4),\n",
       "  datetime.date(2029, 10, 4),\n",
       "  datetime.date(2030, 10, 4),\n",
       "  datetime.date(2031, 10, 4)],\n",
       " [datetime.date(2013, 10, 3),\n",
       "  datetime.date(2014, 10, 3),\n",
       "  datetime.date(2015, 10, 5),\n",
       "  datetime.date(2016, 10, 3),\n",
       "  datetime.date(2017, 10, 3),\n",
       "  datetime.date(2018, 10, 3),\n",
       "  datetime.date(2019, 10, 3),\n",
       "  datetime.date(2020, 10, 3),\n",
       "  datetime.date(2021, 10, 3),\n",
       "  datetime.date(2022, 10, 3),\n",
       "  datetime.date(2023, 10, 3),\n",
       "  datetime.date(2024, 10, 3),\n",
       "  datetime.date(2025, 10, 3),\n",
       "  datetime.date(2026, 10, 3),\n",
       "  datetime.date(2027, 10, 4),\n",
       "  datetime.date(2028, 10, 4),\n",
       "  datetime.date(2029, 10, 4),\n",
       "  datetime.date(2030, 10, 4),\n",
       "  datetime.date(2031, 10, 4),\n",
       "  datetime.date(2032, 10, 4),\n",
       "  datetime.date(2033, 10, 4),\n",
       "  datetime.date(2034, 10, 4),\n",
       "  datetime.date(2035, 10, 4),\n",
       "  datetime.date(2036, 10, 4),\n",
       "  datetime.date(2037, 10, 4),\n",
       "  datetime.date(2038, 10, 4),\n",
       "  datetime.date(2039, 10, 4),\n",
       "  datetime.date(2040, 10, 4),\n",
       "  datetime.date(2041, 10, 4)]]"
      ]
     },
     "execution_count": 23,
     "metadata": {},
     "output_type": "execute_result"
    }
   ],
   "source": [
    "[swhere[i] for i in range(len(swapmat))]"
   ]
  },
  {
   "cell_type": "code",
   "execution_count": 36,
   "metadata": {
    "collapsed": false,
    "deletable": true,
    "editable": true
   },
   "outputs": [
    {
     "data": {
      "text/plain": [
       "[None]"
      ]
     },
     "execution_count": 36,
     "metadata": {},
     "output_type": "execute_result"
    }
   ],
   "source": [
    "pp= pd.DataFrame(list(range(len(P))), columns=['p_index'])"
   ]
  },
  {
   "cell_type": "code",
   "execution_count": 49,
   "metadata": {
    "collapsed": false,
    "deletable": true,
    "editable": true
   },
   "outputs": [
    {
     "ename": "TypeError",
     "evalue": "first argument must be an iterable of pandas objects, you passed an object of type \"DataFrame\"",
     "traceback": [
      "\u001b[0;31m---------------------------------------------------------------------------\u001b[0m",
      "\u001b[0;31mTypeError\u001b[0m                                 Traceback (most recent call last)",
      "\u001b[0;32m<ipython-input-49-9cabdeb18601>\u001b[0m in \u001b[0;36m<module>\u001b[0;34m()\u001b[0m\n\u001b[0;32m----> 1\u001b[0;31m \u001b[0mnew\u001b[0m \u001b[0;34m=\u001b[0m \u001b[0mpd\u001b[0m\u001b[0;34m.\u001b[0m\u001b[0mconcat\u001b[0m\u001b[0;34m(\u001b[0m\u001b[0mmatrix\u001b[0m\u001b[0;34m,\u001b[0m \u001b[0mmatrix\u001b[0m\u001b[0;34m)\u001b[0m \u001b[0;31m#,join='inner')\u001b[0m\u001b[0;34m\u001b[0m\u001b[0m\n\u001b[0m",
      "\u001b[0;32m/Users/ingiornpetursson/.local/lib/python3.5/site-packages/pandas/tools/merge.py\u001b[0m in \u001b[0;36mconcat\u001b[0;34m(objs, axis, join, join_axes, ignore_index, keys, levels, names, verify_integrity, copy)\u001b[0m\n\u001b[1;32m    843\u001b[0m                        \u001b[0mkeys\u001b[0m\u001b[0;34m=\u001b[0m\u001b[0mkeys\u001b[0m\u001b[0;34m,\u001b[0m \u001b[0mlevels\u001b[0m\u001b[0;34m=\u001b[0m\u001b[0mlevels\u001b[0m\u001b[0;34m,\u001b[0m \u001b[0mnames\u001b[0m\u001b[0;34m=\u001b[0m\u001b[0mnames\u001b[0m\u001b[0;34m,\u001b[0m\u001b[0;34m\u001b[0m\u001b[0m\n\u001b[1;32m    844\u001b[0m                        \u001b[0mverify_integrity\u001b[0m\u001b[0;34m=\u001b[0m\u001b[0mverify_integrity\u001b[0m\u001b[0;34m,\u001b[0m\u001b[0;34m\u001b[0m\u001b[0m\n\u001b[0;32m--> 845\u001b[0;31m                        copy=copy)\n\u001b[0m\u001b[1;32m    846\u001b[0m     \u001b[0;32mreturn\u001b[0m \u001b[0mop\u001b[0m\u001b[0;34m.\u001b[0m\u001b[0mget_result\u001b[0m\u001b[0;34m(\u001b[0m\u001b[0;34m)\u001b[0m\u001b[0;34m\u001b[0m\u001b[0m\n\u001b[1;32m    847\u001b[0m \u001b[0;34m\u001b[0m\u001b[0m\n",
      "\u001b[0;32m/Users/ingiornpetursson/.local/lib/python3.5/site-packages/pandas/tools/merge.py\u001b[0m in \u001b[0;36m__init__\u001b[0;34m(self, objs, axis, join, join_axes, keys, levels, names, ignore_index, verify_integrity, copy)\u001b[0m\n\u001b[1;32m    858\u001b[0m             raise TypeError('first argument must be an iterable of pandas '\n\u001b[1;32m    859\u001b[0m                             \u001b[0;34m'objects, you passed an object of type '\u001b[0m\u001b[0;34m\u001b[0m\u001b[0m\n\u001b[0;32m--> 860\u001b[0;31m                             '\"{0}\"'.format(type(objs).__name__))\n\u001b[0m\u001b[1;32m    861\u001b[0m \u001b[0;34m\u001b[0m\u001b[0m\n\u001b[1;32m    862\u001b[0m         \u001b[0;32mif\u001b[0m \u001b[0mjoin\u001b[0m \u001b[0;34m==\u001b[0m \u001b[0;34m'outer'\u001b[0m\u001b[0;34m:\u001b[0m\u001b[0;34m\u001b[0m\u001b[0m\n",
      "\u001b[0;31mTypeError\u001b[0m: first argument must be an iterable of pandas objects, you passed an object of type \"DataFrame\""
     ],
     "output_type": "error"
    }
   ],
   "source": [
    "new = pd.concat(matrix, matrix) #,join='inner')"
   ]
  },
  {
   "cell_type": "code",
   "execution_count": 37,
   "metadata": {
    "collapsed": false,
    "deletable": true,
    "editable": true
   },
   "outputs": [
    {
     "data": {
      "text/plain": [
       "[[None],\n",
       " [None],\n",
       " [None],\n",
       " [None],\n",
       " datetime.date(2013, 3, 20),\n",
       " datetime.date(2013, 6, 19),\n",
       " datetime.date(2013, 9, 18),\n",
       " datetime.date(2013, 12, 18),\n",
       " [datetime.date(2013, 10, 3)],\n",
       " [datetime.date(2013, 10, 3), datetime.date(2014, 10, 3)],\n",
       " [datetime.date(2013, 10, 3),\n",
       "  datetime.date(2014, 10, 3),\n",
       "  datetime.date(2015, 10, 5)],\n",
       " [datetime.date(2013, 10, 3),\n",
       "  datetime.date(2014, 10, 3),\n",
       "  datetime.date(2015, 10, 5),\n",
       "  datetime.date(2016, 10, 3)],\n",
       " [datetime.date(2013, 10, 3),\n",
       "  datetime.date(2014, 10, 3),\n",
       "  datetime.date(2015, 10, 5),\n",
       "  datetime.date(2016, 10, 3),\n",
       "  datetime.date(2017, 10, 3),\n",
       "  datetime.date(2018, 10, 3)],\n",
       " [datetime.date(2013, 10, 3),\n",
       "  datetime.date(2014, 10, 3),\n",
       "  datetime.date(2015, 10, 5),\n",
       "  datetime.date(2016, 10, 3),\n",
       "  datetime.date(2017, 10, 3),\n",
       "  datetime.date(2018, 10, 3),\n",
       "  datetime.date(2019, 10, 3),\n",
       "  datetime.date(2020, 10, 3),\n",
       "  datetime.date(2021, 10, 3)],\n",
       " [datetime.date(2013, 10, 3),\n",
       "  datetime.date(2014, 10, 3),\n",
       "  datetime.date(2015, 10, 5),\n",
       "  datetime.date(2016, 10, 3),\n",
       "  datetime.date(2017, 10, 3),\n",
       "  datetime.date(2018, 10, 3),\n",
       "  datetime.date(2019, 10, 3),\n",
       "  datetime.date(2020, 10, 3),\n",
       "  datetime.date(2021, 10, 3),\n",
       "  datetime.date(2022, 10, 3),\n",
       "  datetime.date(2023, 10, 3),\n",
       "  datetime.date(2024, 10, 3),\n",
       "  datetime.date(2025, 10, 3),\n",
       "  datetime.date(2026, 10, 3)],\n",
       " [datetime.date(2013, 10, 3),\n",
       "  datetime.date(2014, 10, 3),\n",
       "  datetime.date(2015, 10, 5),\n",
       "  datetime.date(2016, 10, 3),\n",
       "  datetime.date(2017, 10, 3),\n",
       "  datetime.date(2018, 10, 3),\n",
       "  datetime.date(2019, 10, 3),\n",
       "  datetime.date(2020, 10, 3),\n",
       "  datetime.date(2021, 10, 3),\n",
       "  datetime.date(2022, 10, 3),\n",
       "  datetime.date(2023, 10, 3),\n",
       "  datetime.date(2024, 10, 3),\n",
       "  datetime.date(2025, 10, 3),\n",
       "  datetime.date(2026, 10, 3),\n",
       "  datetime.date(2027, 10, 4),\n",
       "  datetime.date(2028, 10, 4),\n",
       "  datetime.date(2029, 10, 4),\n",
       "  datetime.date(2030, 10, 4),\n",
       "  datetime.date(2031, 10, 4)],\n",
       " [datetime.date(2013, 10, 3),\n",
       "  datetime.date(2014, 10, 3),\n",
       "  datetime.date(2015, 10, 5),\n",
       "  datetime.date(2016, 10, 3),\n",
       "  datetime.date(2017, 10, 3),\n",
       "  datetime.date(2018, 10, 3),\n",
       "  datetime.date(2019, 10, 3),\n",
       "  datetime.date(2020, 10, 3),\n",
       "  datetime.date(2021, 10, 3),\n",
       "  datetime.date(2022, 10, 3),\n",
       "  datetime.date(2023, 10, 3),\n",
       "  datetime.date(2024, 10, 3),\n",
       "  datetime.date(2025, 10, 3),\n",
       "  datetime.date(2026, 10, 3),\n",
       "  datetime.date(2027, 10, 4),\n",
       "  datetime.date(2028, 10, 4),\n",
       "  datetime.date(2029, 10, 4),\n",
       "  datetime.date(2030, 10, 4),\n",
       "  datetime.date(2031, 10, 4),\n",
       "  datetime.date(2032, 10, 4),\n",
       "  datetime.date(2033, 10, 4),\n",
       "  datetime.date(2034, 10, 4),\n",
       "  datetime.date(2035, 10, 4),\n",
       "  datetime.date(2036, 10, 4),\n",
       "  datetime.date(2037, 10, 4),\n",
       "  datetime.date(2038, 10, 4),\n",
       "  datetime.date(2039, 10, 4),\n",
       "  datetime.date(2040, 10, 4),\n",
       "  datetime.date(2041, 10, 4)]]"
      ]
     },
     "execution_count": 37,
     "metadata": {},
     "output_type": "execute_result"
    }
   ],
   "source": [
    "P"
   ]
  },
  {
   "cell_type": "code",
   "execution_count": 50,
   "metadata": {
    "collapsed": true,
    "deletable": true,
    "editable": true
   },
   "outputs": [],
   "source": [
    "import pickle"
   ]
  },
  {
   "cell_type": "code",
   "execution_count": 67,
   "metadata": {
    "collapsed": true,
    "deletable": true,
    "editable": true
   },
   "outputs": [],
   "source": [
    "pickle.dump(P, open( \"P.p\", \"wb\" ) )"
   ]
  },
  {
   "cell_type": "code",
   "execution_count": 52,
   "metadata": {
    "collapsed": true,
    "deletable": true,
    "editable": true
   },
   "outputs": [],
   "source": [
    "P2 = pickle.load( open( \"P.p\", \"rb\" ) )"
   ]
  },
  {
   "cell_type": "code",
   "execution_count": 54,
   "metadata": {
    "collapsed": false,
    "deletable": true,
    "editable": true
   },
   "outputs": [
    {
     "data": {
      "text/plain": [
       "[None]"
      ]
     },
     "execution_count": 54,
     "metadata": {},
     "output_type": "execute_result"
    }
   ],
   "source": [
    "P2[0]"
   ]
  },
  {
   "cell_type": "code",
   "execution_count": 61,
   "metadata": {
    "collapsed": false,
    "deletable": true,
    "editable": true
   },
   "outputs": [
    {
     "name": "stdout",
     "output_type": "stream",
     "text": [
      "2012-10-04\n",
      "2012-11-05\n",
      "2013-01-03\n",
      "2013-04-03\n",
      "2013-06-19\n",
      "2013-09-18\n",
      "2013-12-18\n",
      "2014-03-19\n",
      "2014-10-03\n",
      "2015-10-05\n",
      "2016-10-03\n",
      "2017-10-03\n",
      "2019-10-03\n",
      "2022-10-03\n",
      "2027-10-04\n",
      "2032-10-04\n",
      "2042-10-03\n"
     ]
    }
   ],
   "source": [
    "for index, row in matrix.iterrows():\n",
    "    print(row['Maturity'].date())"
   ]
  },
  {
   "cell_type": "code",
   "execution_count": null,
   "metadata": {
    "collapsed": true,
    "deletable": true,
    "editable": true
   },
   "outputs": [],
   "source": [
    ""
   ]
  }
 ],
 "metadata": {
  "anaconda-cloud": {},
  "kernelspec": {
   "display_name": "Python 3",
   "language": "python",
   "name": "python3"
  },
  "language_info": {
   "codemirror_mode": {
    "name": "ipython",
    "version": 3.0
   },
   "file_extension": ".py",
   "mimetype": "text/x-python",
   "name": "python",
   "nbconvert_exporter": "python",
   "pygments_lexer": "ipython3",
   "version": "3.6.0"
  }
 },
 "nbformat": 4,
 "nbformat_minor": 0
}